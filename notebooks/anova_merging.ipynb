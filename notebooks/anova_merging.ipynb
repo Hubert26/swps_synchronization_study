{
 "cells": [
  {
   "cell_type": "code",
   "execution_count": 33,
   "metadata": {},
   "outputs": [],
   "source": [
    "import sys\n",
    "from pathlib import Path\n",
    "from dotenv import load_dotenv\n",
    "import os\n",
    "\n",
    "# Load environment variables from the .env file\n",
    "load_dotenv()\n",
    "\n",
    "WORKSPACE_PATH = os.getenv(\"WORKSPACE_PATH\")\n",
    "\n",
    "# Add the parent directory to the system path\n",
    "sys.path.append(str(WORKSPACE_PATH))\n"
   ]
  },
  {
   "cell_type": "code",
   "execution_count": 34,
   "metadata": {},
   "outputs": [],
   "source": [
    "from utils.dataframe_utils import read_excel_file, write_to_excel"
   ]
  },
  {
   "cell_type": "code",
   "execution_count": 40,
   "metadata": {},
   "outputs": [
    {
     "ename": "ModuleNotFoundError",
     "evalue": "No module named 'config'",
     "output_type": "error",
     "traceback": [
      "\u001b[1;31m---------------------------------------------------------------------------\u001b[0m",
      "\u001b[1;31mModuleNotFoundError\u001b[0m                       Traceback (most recent call last)",
      "Cell \u001b[1;32mIn[40], line 1\u001b[0m\n\u001b[1;32m----> 1\u001b[0m \u001b[38;5;28;01mfrom\u001b[39;00m \u001b[38;5;21;01msrc\u001b[39;00m\u001b[38;5;21;01m.\u001b[39;00m\u001b[38;5;21;01manova_data_preparation\u001b[39;00m \u001b[38;5;28;01mimport\u001b[39;00m (\n\u001b[0;32m      2\u001b[0m     sort_columns_by_rules,\n\u001b[0;32m      3\u001b[0m     regex_patterns,\n\u001b[0;32m      4\u001b[0m     sorting_rules,\n\u001b[0;32m      5\u001b[0m )\n",
      "File \u001b[1;32mc:\\Users/huber/OneDrive/Dokumenty/GitHub/swps_synchronization_study\\src\\anova_data_preparation.py:13\u001b[0m\n\u001b[0;32m      9\u001b[0m \u001b[38;5;28;01mimport\u001b[39;00m \u001b[38;5;21;01mcopy\u001b[39;00m\n\u001b[0;32m     10\u001b[0m \u001b[38;5;28;01mimport\u001b[39;00m \u001b[38;5;21;01mre\u001b[39;00m\n\u001b[1;32m---> 13\u001b[0m \u001b[38;5;28;01mfrom\u001b[39;00m \u001b[38;5;21;01mconfig\u001b[39;00m \u001b[38;5;28;01mimport\u001b[39;00m \u001b[38;5;241m*\u001b[39m\n\u001b[0;32m     14\u001b[0m \u001b[38;5;28;01mfrom\u001b[39;00m \u001b[38;5;21;01mutils\u001b[39;00m\u001b[38;5;21;01m.\u001b[39;00m\u001b[38;5;21;01mdataframe_utils\u001b[39;00m \u001b[38;5;28;01mimport\u001b[39;00m read_excel_file, write_to_excel\n\u001b[0;32m     16\u001b[0m \u001b[38;5;66;03m# %%\u001b[39;00m\n\u001b[0;32m     17\u001b[0m \u001b[38;5;66;03m# Define a variable to choose between spearman results and pearson results\u001b[39;00m\n",
      "\u001b[1;31mModuleNotFoundError\u001b[0m: No module named 'config'"
     ]
    }
   ],
   "source": [
    "from src.anova_data_preparation import (\n",
    "    sort_columns_by_rules,\n",
    "    regex_patterns,\n",
    "    sorting_rules,\n",
    ")"
   ]
  },
  {
   "cell_type": "code",
   "execution_count": 35,
   "metadata": {},
   "outputs": [],
   "source": [
    "RESULTS_DIR = Path(os.getenv(\"RESULTS_DIR\"))"
   ]
  },
  {
   "cell_type": "code",
   "execution_count": 39,
   "metadata": {},
   "outputs": [
    {
     "name": "stdout",
     "output_type": "stream",
     "text": [
      "DataFrame successfully written to c:\\Users\\huber\\OneDrive\\Dokumenty\\GitHub\\swps_synchronization_study\\results\\analysis_data\\ANOVA\\best_anova_data.xlsx\n",
      "DataFrame successfully written to c:\\Users\\huber\\OneDrive\\Dokumenty\\GitHub\\swps_synchronization_study\\results\\analysis_data\\ANOVA\\all_anova_data.xlsx\n"
     ]
    }
   ],
   "source": [
    "# Define the prefixes and suffixes for the results\n",
    "result_prefixes = [\"best\", \"all\"]\n",
    "corr_types = [\"pearson\", \"spearman\"]\n",
    "\n",
    "# Initialize empty lists to hold the merged DataFrames\n",
    "merged_results = []\n",
    "\n",
    "# Loop through each combination of prefix and correlation type for best results\n",
    "for prefix in result_prefixes:\n",
    "    for corr_type in corr_types:\n",
    "        # Construct the file path\n",
    "        file_path = (\n",
    "            RESULTS_DIR\n",
    "            / \"analysis_data\"\n",
    "            / \"ANOVA\"\n",
    "            / str(f\"{corr_type}_{prefix}_anova_data.xlsx\")\n",
    "        )\n",
    "\n",
    "        # Read the Excel file\n",
    "        try:\n",
    "            results_df = read_excel_file(file_path)\n",
    "            merged_results.append((corr_type, results_df))\n",
    "        except FileNotFoundError:\n",
    "            print(f\"File not found: {file_path}\")\n",
    "\n",
    "    # Merge the results based on a common column, e.g., 'pair_number'\n",
    "    if len(merged_results) > 0:\n",
    "        # Start with the first DataFrame and add a suffix to all columns except 'pair_number'\n",
    "        first_corr_type = merged_results[0][0]\n",
    "        merged_df = merged_results[0][1].rename(\n",
    "            columns=lambda x: f\"{x}_{first_corr_type}\" if x != \"pair_number\" else x\n",
    "        )\n",
    "\n",
    "        for corr_type, df in merged_results[1:]:\n",
    "            # Add suffix to the current DataFrame, except for 'pair_number'\n",
    "            df = df.rename(\n",
    "                columns=lambda x: f\"{x}_{corr_type}\" if x != \"pair_number\" else x\n",
    "            )\n",
    "            merged_df = merged_df.merge(\n",
    "                df, on=\"pair_number\", suffixes=(\"\", f\"_{corr_type}\")\n",
    "            )\n",
    "\n",
    "        merged_df = sort_columns_by_rules(merged_df, regex_patterns, sorting_rules)\n",
    "        merged_df.reset_index(names=\"pair_number\", inplace=True)\n",
    "\n",
    "        # Save the merged results to an Excel file\n",
    "        write_to_excel(\n",
    "            merged_df,\n",
    "            RESULTS_DIR / \"analysis_data\" / \"ANOVA\" / str(prefix + \"_anova_data.xlsx\"),\n",
    "        )\n",
    "    else:\n",
    "        print(f\"Not enough data to merge {prefix} results.\")\n",
    "\n",
    "    # Clear merged_results for the next prefix\n",
    "    merged_results.clear()"
   ]
  }
 ],
 "metadata": {
  "kernelspec": {
   "display_name": "swps_synchronization_study_env",
   "language": "python",
   "name": "python3"
  },
  "language_info": {
   "codemirror_mode": {
    "name": "ipython",
    "version": 3
   },
   "file_extension": ".py",
   "mimetype": "text/x-python",
   "name": "python",
   "nbconvert_exporter": "python",
   "pygments_lexer": "ipython3",
   "version": "3.12.7"
  }
 },
 "nbformat": 4,
 "nbformat_minor": 2
}
